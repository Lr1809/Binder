{
 "cells": [
  {
   "cell_type": "code",
   "execution_count": null,
   "metadata": {},
   "outputs": [],
   "source": [
    "import sys\n",
    "import requests\n",
    "from bs4 import BeautifulSoup\n",
    "\n",
    "def test():\n",
    "    try:\n",
    "        r = requests.get(\"https://python123.io/ws/demo.html\")   \n",
    "        r.raise_for_status()    \n",
    "        r.encoding = r.apparent_encoding\n",
    "        \n",
    "        #print(r.headers)#返回网页头信息\n",
    "        \n",
    "        #print(r.request.headers)#发送请求头部信息\n",
    "        \n",
    "        demo = r.text\n",
    "        print(\"type demo :\",type(demo),'\\n')\n",
    "        soup = BeautifulSoup(demo,\"html.parser\") #利用bs4解析r.text\n",
    "    \n",
    "        print(\"type soup :\", type(soup),'\\n') #soup 类型\n",
    "        #print(soup.prettify())\n",
    "        \n",
    "        #print(soup.a)\n",
    "        print(type(soup.a)) #标签类型\n",
    "        #print(soup.a.parent)\n",
    "        tag = soup.a\n",
    "        print(tag.attrs)         #a标签的属性\n",
    "        print(tag.attrs['href']) #单独提取出键中的值\n",
    "        \n",
    "    except:\n",
    "        info=sys.exc_info()  \n",
    "    \n",
    "        #print(info)\n",
    "        print(info[0],\":\",info[1])\n",
    "\n",
    "if __name__ == \"__main__\":\n",
    "    test()\n"
   ]
  },
  {
   "cell_type": "code",
   "execution_count": null,
   "metadata": {},
   "outputs": [],
   "source": []
  }
 ],
 "metadata": {
  "kernelspec": {
   "display_name": "Python 3",
   "language": "python",
   "name": "python3"
  },
  "language_info": {
   "codemirror_mode": {
    "name": "ipython",
    "version": 3
   },
   "file_extension": ".py",
   "mimetype": "text/x-python",
   "name": "python",
   "nbconvert_exporter": "python",
   "pygments_lexer": "ipython3",
   "version": "3.7.3"
  }
 },
 "nbformat": 4,
 "nbformat_minor": 2
}
