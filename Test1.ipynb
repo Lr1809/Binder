{
 "cells": [
  {
   "cell_type": "code",
   "execution_count": 3,
   "metadata": {},
   "outputs": [
    {
     "name": "stdout",
     "output_type": "stream",
     "text": [
      "<html><head><title>This is a python demo page</title></head>\r\n",
      "<body>\r\n",
      "<p class=\"title\"><b>The demo python introduces several python courses.</b></p>\r\n",
      "<p class=\"course\">Python is a wonderful general-purpose programming language. You can learn Python from novice to professional by tracking the following courses:\r\n",
      "<a href=\"http://www.icourse163.org/course/BIT-268001\" class=\"py1\" id=\"link1\">Basic Python</a> and <a href=\"http://www.icourse163.org/course/BIT-1001870001\" class=\"py2\" id=\"link2\">Advanced Python</a>.</p>\r\n",
      "</body></html>\n",
      "type demo : <class 'str'> \n",
      "\n",
      "type soup : <class 'bs4.BeautifulSoup'> \n",
      "\n",
      "<html>\n",
      " <head>\n",
      "  <title>\n",
      "   This is a python demo page\n",
      "  </title>\n",
      " </head>\n",
      " <body>\n",
      "  <p class=\"title\">\n",
      "   <b>\n",
      "    The demo python introduces several python courses.\n",
      "   </b>\n",
      "  </p>\n",
      "  <p class=\"course\">\n",
      "   Python is a wonderful general-purpose programming language. You can learn Python from novice to professional by tracking the following courses:\n",
      "   <a class=\"py1\" href=\"http://www.icourse163.org/course/BIT-268001\" id=\"link1\">\n",
      "    Basic Python\n",
      "   </a>\n",
      "   and\n",
      "   <a class=\"py2\" href=\"http://www.icourse163.org/course/BIT-1001870001\" id=\"link2\">\n",
      "    Advanced Python\n",
      "   </a>\n",
      "   .\n",
      "  </p>\n",
      " </body>\n",
      "</html>\n"
     ]
    }
   ],
   "source": [
    "import sys\n",
    "import requests\n",
    "from bs4 import BeautifulSoup\n",
    "\n",
    "def test():\n",
    "    try:\n",
    "        r = requests.get(\"https://python123.io/ws/demo.html\")   \n",
    "        r.raise_for_status()    \n",
    "        r.encoding = r.apparent_encoding\n",
    "        print(r.text)\n",
    "        demo = r.text\n",
    "        print(\"type demo :\",type(demo),'\\n')\n",
    "        soup = BeautifulSoup(demo,\"html.parser\") #利用bs4解析r.text\n",
    "    \n",
    "        print(\"type soup :\", type(soup),'\\n')\n",
    "        print(soup.prettify())\n",
    "\n",
    "    except:\n",
    "        info=sys.exc_info()  \n",
    "    \n",
    "        #print(info)\n",
    "        print(info[0],\":\",info[1])\n",
    "\n",
    "if __name__ == \"__main__\":\n",
    "    test()"
   ]
  },
  {
   "cell_type": "code",
   "execution_count": null,
   "metadata": {},
   "outputs": [],
   "source": []
  }
 ],
 "metadata": {
  "kernelspec": {
   "display_name": "Python 3",
   "language": "python",
   "name": "python3"
  },
  "language_info": {
   "codemirror_mode": {
    "name": "ipython",
    "version": 3
   },
   "file_extension": ".py",
   "mimetype": "text/x-python",
   "name": "python",
   "nbconvert_exporter": "python",
   "pygments_lexer": "ipython3",
   "version": "3.7.3"
  }
 },
 "nbformat": 4,
 "nbformat_minor": 2
}
