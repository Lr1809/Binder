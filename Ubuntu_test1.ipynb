import sys
import requests
from bs4 import BeautifulSoup

def test():
    try:
        r = requests.get("https://python123.io/ws/demo.html")   
        r.raise_for_status()    
        r.encoding = r.apparent_encoding
        print(r.text)
        demo = r.text
        print("type demo :",type(demo),'\n')
        soup = BeautifulSoup(demo,"html.parser") #利用bs4解析r.text
    
        so
        print("type soup :", type(soup),'\n')
        print(soup.prettify())

    except:
        info=sys.exc_info()  
    
        #print(info)
        print(info[0],":",info[1])

if __name__ == "__main__":
    test()
